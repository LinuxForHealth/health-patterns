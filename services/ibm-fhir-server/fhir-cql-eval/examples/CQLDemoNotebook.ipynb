{
 "cells": [
  {
   "cell_type": "markdown",
   "id": "4bcd4b37",
   "metadata": {},
   "source": [
    "## OperationDefinition-cpg-cql and OperationDefinition-cpg-library-evaluate example\n"
   ]
  },
  {
   "cell_type": "markdown",
   "id": "85a2bfb6",
   "metadata": {},
   "source": [
    "### Prerequisites\n",
    "\n",
    "In order to evaluate cql, a FHIR server is required that has implementations for the following clinical practice guidelines.\n",
    "\n",
    "[OperationDefinition-cpg-cql](http://build.fhir.org/ig/HL7/cqf-recommendations/OperationDefinition-cpg-cql.html)\n",
    "- URL: [base]/$cql\n",
    "\n",
    "\n",
    "[OperationDefinition-cpg-library-evaluate](http://build.fhir.org/ig/HL7/cqf-recommendations/OperationDefinition-cpg-library-evaluate.html)\n",
    "- URL: [base]/Library/[id]/$evaluate\n",
    " \n",
    "The easiest way to deploy a FHIR server with these capabilities is to use the Alvearie Health Patterns ingest pattern described [here](https://github.com/Alvearie/health-patterns/tree/main/ingest) making the following change to the `values.yaml` file to point the FHIR server to the `Quay.io` `fhir-cql` prebuilt container image. Details found [here]( https://github.com/Alvearie/health-patterns/tree/main/services/ibm-fhir-server/fhir-cql-eval).\n",
    "\n",
    "`fhir:\n",
    "  name: fhir\n",
    "  enabled: true\n",
    "...\n",
    "  image:\n",
    "  \\# -- The repository to pull the IBM FHIR Server image from\n",
    "    repository: quay.io/alvearie/fhir-cql\n",
    "  \\# -- IBM FHIR Server container image tag\n",
    "    tag: \"latest\"`\n",
    "\n",
    "Once the deployment is complete, use the URL for the FHIR server in the cells below.  Use the ingestion pattern to persist patients to the FHIR server or persist them directly as shown below."
   ]
  },
  {
   "cell_type": "markdown",
   "id": "54849f1d",
   "metadata": {},
   "source": [
    "### Python and patient data setup"
   ]
  },
  {
   "cell_type": "code",
   "execution_count": null,
   "id": "08fc97d8",
   "metadata": {},
   "outputs": [],
   "source": [
    "# INSTALL PACKAGES THAT ARE REQUIRED\n",
    "\n",
    "!pip install requests\n",
    "!pip install pandas"
   ]
  },
  {
   "cell_type": "code",
   "execution_count": null,
   "id": "0f85bdad",
   "metadata": {},
   "outputs": [],
   "source": [
    "#HELPER CELL TO PRELOAD DIRECTORIES/UNZIP (optional)\n",
    "#Use this helper to create local directories of patients\n",
    "#Run with as many directories as you like\n",
    "\n",
    "import zipfile\n",
    "\n",
    "with zipfile.ZipFile('patientsOne/patientsOne.zip', 'r') as zip_file:\n",
    "    zip_file.extractall('.')"
   ]
  },
  {
   "cell_type": "code",
   "execution_count": null,
   "id": "40ddd50f",
   "metadata": {},
   "outputs": [],
   "source": [
    "#IMPORT modules (run once)\n",
    "\n",
    "import requests\n",
    "import json"
   ]
  },
  {
   "cell_type": "markdown",
   "id": "8109edc6",
   "metadata": {},
   "source": [
    "### FHIR server setup and health check"
   ]
  },
  {
   "cell_type": "code",
   "execution_count": null,
   "id": "5a556dc6",
   "metadata": {},
   "outputs": [],
   "source": [
    "#FHIR Server SETUP (run once)\n",
    "\n",
    "fhir_server_url = \"https://<<your fhir server base url>>\"\n",
    "username = \"<your fhir username>\"\n",
    "password = \"<your fhir password>\"\n",
    "\n",
    "\n"
   ]
  },
  {
   "cell_type": "code",
   "execution_count": null,
   "id": "1abd32d6",
   "metadata": {},
   "outputs": [],
   "source": [
    "# Check the fhir server for health\n",
    "requests.packages.urllib3.disable_warnings()\n",
    "resp = requests.get(fhir_server_url + \"/$healthcheck\", auth=(username, password), verify=False)\n",
    "\n",
    "print(\"Status code\", resp.status_code)\n",
    "\n",
    "if resp.status_code == 200:\n",
    "    print(\"FHIR server is healthy\")\n",
    "\n"
   ]
  },
  {
   "cell_type": "markdown",
   "id": "53b55967",
   "metadata": {},
   "source": [
    "### Loading patients into the FHIR server\n"
   ]
  },
  {
   "cell_type": "code",
   "execution_count": null,
   "id": "47eb3fe0",
   "metadata": {},
   "outputs": [],
   "source": [
    "# CLEAR patient library\n",
    "# ALSO need to clear the fhir server of all patients, libraries, etc.\n",
    "\n",
    "patient_library = {}"
   ]
  },
  {
   "cell_type": "code",
   "execution_count": null,
   "id": "f5e1c869",
   "metadata": {},
   "outputs": [],
   "source": [
    "# LOAD the fhir server with a single patient json\n",
    "\n",
    "from os import listdir\n",
    "from os import path\n",
    "\n",
    "headers = {'Content-Type': 'application/fhir+json'}\n",
    "\n",
    "patient_filename = input(\"Enter a patient filename (.json)\")\n",
    "\n",
    "plist = []\n",
    "\n",
    "with open(patient_filename, 'r') as file:\n",
    "    print(\"Loading (posting) ...\", patient_filename)\n",
    "    response = requests.post(fhir_server_url, \n",
    "                             auth=(username, password), \n",
    "                             verify=False,\n",
    "                             data=file.read(), \n",
    "                             headers=headers)\n",
    "    if response.status_code == 200 or response.status_code == 201:\n",
    "        pid = response.json()[\"entry\"][0][\"response\"][\"location\"].split(\"/_history\")[0]\n",
    "        print(pid)\n",
    "        patient_library[pid] = []\n",
    "    else:\n",
    "        print(\"Error pushing %s\" % (filename))\n",
    "    \n"
   ]
  },
  {
   "cell_type": "code",
   "execution_count": null,
   "id": "a6076713",
   "metadata": {},
   "outputs": [],
   "source": [
    "# LOAD the fhir server from a directory of patient jsons\n",
    "\n",
    "from os import listdir\n",
    "from os import path\n",
    "\n",
    "headers = {'Content-Type': 'application/fhir+json'}\n",
    "\n",
    "patient_directory = input(\"Enter patient directory: \")\n",
    "\n",
    "successful_pushes = 0\n",
    "failed_pushes = []\n",
    "\n",
    "plist = []\n",
    "for filename in listdir(patient_directory):\n",
    "    if not filename.endswith(\".json\"):\n",
    "        continue\n",
    "    with open(path.join(patient_directory, filename), 'r') as file:\n",
    "        print(\"Loading (posting) ...\", filename)\n",
    "        response = requests.post(fhir_server_url, \n",
    "                                 auth=(username, password), \n",
    "                                 verify=False,\n",
    "                                 data=file.read(), \n",
    "                                 headers=headers)\n",
    "        if response.status_code == 200 or response.status_code == 201:\n",
    "            successful_pushes += 1\n",
    "            pid = response.json()[\"entry\"][0][\"response\"][\"location\"].split(\"/_history\")[0]\n",
    "            print(pid)\n",
    "            plist.append(pid)\n",
    "        else:\n",
    "            print(\"Error pushing %s: %s\" % (filename, response.content))\n",
    "            failed_pushes.append(filename)\n",
    "    \n",
    "print(\"Successfully pushed %s patient files\" % successful_pushes)\n",
    "patient_library[patient_directory] = plist\n",
    "\n",
    "if failed_pushes:\n",
    "    print(\"The following patient files failed: %s\" % failed_pushes)\n"
   ]
  },
  {
   "cell_type": "code",
   "execution_count": null,
   "id": "588e3b5c",
   "metadata": {},
   "outputs": [],
   "source": [
    "#SHOW PATIENT LIBRARY\n",
    "#These have been loaded into the fhir server\n",
    "\n",
    "for k in patient_library:\n",
    "    print(k)\n",
    "    for p in patient_library[k]:\n",
    "        print(\"    \", p)\n",
    "        "
   ]
  },
  {
   "cell_type": "code",
   "execution_count": null,
   "id": "8e0a5590",
   "metadata": {},
   "outputs": [],
   "source": [
    "# Get a list of ALL patients in fhir server\n",
    "\n",
    "#https://dlr-ext-fhir.wh-health-patterns.dev.watson-health.ibm.com/fhir/Patient\n",
    "query_params = {\n",
    "        \"_count\": 100\n",
    "    }\n",
    "\n",
    "def get_patient_list():\n",
    "    plist = []\n",
    "    resp = requests.get(fhir_server_url + \"/Patient\", params=query_params, auth=(username, password), verify=False)\n",
    "\n",
    "    print(\"Status code\", resp.status_code)\n",
    "\n",
    "    resp_json = resp.json()\n",
    "\n",
    "    print(\"Found\", resp_json[\"total\"], \"patients\")\n",
    "    for p in resp_json[\"entry\"]:\n",
    "        pid = p[\"fullUrl\"].split(\"v4/\")[1]\n",
    "        #print(pid)\n",
    "        plist.append(pid)\n",
    "    return plist\n",
    "\n",
    "subject_list = get_patient_list()\n",
    "print(subject_list)"
   ]
  },
  {
   "cell_type": "markdown",
   "id": "d645672c",
   "metadata": {},
   "source": [
    "## CQL\n",
    "\n",
    "\n",
    "##### CPGCQL and CPGLibraryEvaluate\n",
    "\n",
    "- OPERATION: CPGCQL\n",
    "\n",
    "  - The official URL for this operation definition is:http://hl7.org/fhir/uv/cpg/OperationDefinition/cpg-cql\n",
    "\n",
    "  - Evaluates a CQL expression and returns the results as a Parameters resource.\n",
    "\n",
    "  - URL: [base]/$cql\n",
    "\n",
    "\n",
    "\n",
    "\n",
    "- OPERATION: CPGLibraryEvaluate\n",
    "\n",
    "  - The official URL for this operation definition is:http://hl7.org/fhir/uv/cpg/OperationDefinition/cpg-library-evaluate\n",
    "\n",
    "  - Evaluates the contents of a library and returns the results as a Parameters resource.\n",
    "\n",
    "  - URL: [base]/Library/$evaluate\n",
    "\n",
    "  - URL: [base]/Library/[id]/$evaluate"
   ]
  },
  {
   "cell_type": "markdown",
   "id": "3f64247a",
   "metadata": {},
   "source": [
    "### Evaluate INLINE CQL expressions"
   ]
  },
  {
   "cell_type": "code",
   "execution_count": null,
   "id": "1288ffca",
   "metadata": {},
   "outputs": [],
   "source": [
    "#Run CQL expression inline against subject\n",
    "\n",
    "def run_inline_cql(expression, subject):\n",
    "    query_params = {\n",
    "        \"expression\": cql_expression,\n",
    "        \"subject\": subject\n",
    "    }\n",
    "    resp = requests.get(fhir_server_url + \"/$cql\", auth=(username, password), params=query_params, verify=False)\n",
    "    if resp.status_code == 200:\n",
    "        print(\"Evaluation successful\")\n",
    "\n",
    "        result_json = resp.json()\n",
    "\n",
    "        return_stuff = None\n",
    "        for p in result_json[\"parameter\"]:\n",
    "            if p[\"name\"] == \"return\":\n",
    "                return_stuff = p[\"part\"]\n",
    "                break\n",
    "\n",
    "        if return_stuff:\n",
    "            for apart in return_stuff:\n",
    "                keylist = apart.keys()\n",
    "                the_value = None\n",
    "                part_name = apart[\"name\"]\n",
    "                print(\"name\", \"-->\", apart[\"name\"])\n",
    "                for k in keylist:\n",
    "                    if k != \"name\":\n",
    "                        the_value = apart[k]\n",
    "                        if k == \"resource\":\n",
    "                            the_value = apart[k][\"resourceType\"] + \"/\" + apart[k][\"id\"]\n",
    "                            print(k, \"-->\", the_value)\n",
    "                        else:\n",
    "                            print(k, \"-->\", the_value)\n",
    "\n",
    "    else:\n",
    "        print(\"Evaluation failure, return code -->\", resp.status_code)"
   ]
  },
  {
   "cell_type": "code",
   "execution_count": null,
   "id": "4d468a37",
   "metadata": {},
   "outputs": [],
   "source": [
    "#Run CQL expression against every patient in the patient_list\n",
    "\n",
    "def run_cql_over_patientlist(cql_expression, patient_list):\n",
    "    for p in patient_list:\n",
    "        print(\"Running against\", p)\n",
    "        run_inline_cql(cql_expression, p)\n",
    "        \n"
   ]
  },
  {
   "cell_type": "code",
   "execution_count": null,
   "id": "1230ca98",
   "metadata": {},
   "outputs": [],
   "source": [
    "cql_expression = \"34 + 12\"\n",
    "subject = \"Patient/17dc3b9c5d0-e4448978-ee07-4a33-adee-98542009ec60\"\n",
    "\n",
    "run_inline_cql(cql_expression, subject)"
   ]
  },
  {
   "cell_type": "code",
   "execution_count": null,
   "id": "27b4b5b0",
   "metadata": {},
   "outputs": [],
   "source": [
    "cql_expression = \"'dog' + 'house'\"\n",
    "subject = \"Patient/17dc3b9c5d0-e4448978-ee07-4a33-adee-98542009ec60\"\n",
    "\n",
    "run_inline_cql(cql_expression, subject)"
   ]
  },
  {
   "cell_type": "code",
   "execution_count": null,
   "id": "aebfbd85",
   "metadata": {},
   "outputs": [],
   "source": [
    "cql_expression = \"34 + 56\"\n",
    "subject_list = patient_library[\"patientsTwo\"]\n",
    "run_cql_over_patientlist(cql_expression, subject_list)"
   ]
  },
  {
   "cell_type": "code",
   "execution_count": null,
   "id": "ea37ca2f",
   "metadata": {},
   "outputs": [],
   "source": [
    "cql_expression = \"[Patient] p where p.gender = 'male'\"\n",
    "subject = \"Patient/17dc3b9caba-658e8e4c-8503-4a9f-ad12-754c9f2022f8\"\n",
    "run_inline_cql(cql_expression, subject)"
   ]
  },
  {
   "cell_type": "code",
   "execution_count": null,
   "id": "65bc4d2b",
   "metadata": {},
   "outputs": [],
   "source": [
    "cql_expression = \"[Patient] p where p.gender = 'male'\"\n",
    "run_cql_over_patientlist(cql_expression, patient_library[\"patientsTwo\"])"
   ]
  },
  {
   "cell_type": "markdown",
   "id": "abc906e0",
   "metadata": {},
   "source": [
    "### Create and evaluate Library resources that contain cql code"
   ]
  },
  {
   "cell_type": "code",
   "execution_count": null,
   "id": "d676ee39",
   "metadata": {},
   "outputs": [],
   "source": [
    "# Helper that will encode cql into base64\n",
    "\n",
    "import base64\n",
    "\n",
    "def encode_to_base64(cql_source):\n",
    "    message_bytes = cql_source.encode('ascii')\n",
    "    base64_bytes = base64.b64encode(message_bytes)\n",
    "    base64_cql = base64_bytes.decode('ascii')\n",
    "\n",
    "    return base64_cql"
   ]
  },
  {
   "cell_type": "code",
   "execution_count": null,
   "id": "fcb8bbc6",
   "metadata": {},
   "outputs": [],
   "source": [
    "# Encode the cql source\n",
    "\n",
    "cql_source = '''library \"PatientsByAgeGender\" version '1.0.0'\n",
    "\n",
    "using FHIR version '4.0.1'\n",
    "\n",
    "context Patient\n",
    "\n",
    "define \"Patient is Male\":\n",
    "   Patient.gender.value = 'male'\n",
    "   \n",
    "define \"Patient is Female\":\n",
    "   Patient.gender.value = 'female'\n",
    "   \n",
    "define \"Initial Population\":\n",
    "   \"Patient is Male\"\n",
    "   \n",
    "define \"OlderThan40\":\n",
    "   AgeInYears() >= 40\n",
    "\n",
    "define \"OlderMales\":\n",
    "   \"OlderThan40\" and \"Patient is Male\"'''\n",
    "\n",
    "encoded_cql = encode_to_base64(cql_source)\n",
    "print(encoded_cql)"
   ]
  },
  {
   "cell_type": "code",
   "execution_count": null,
   "id": "46aee680",
   "metadata": {},
   "outputs": [],
   "source": [
    "# Instantiate a library resource with the base64 encoded cql content\n",
    "# Be sure the name/version of the resource matches the name/version of the cql source above\n",
    "\n",
    "library_resource = '''{\n",
    "  \"resourceType\": \"Library\",\n",
    "  \"id\": \"example2\",\n",
    "  \"name\": \"PatientsByAgeGender\",\n",
    "  \"version\": \"1.0.0\",\n",
    "  \"title\": \"Example library 2\",\n",
    "  \"status\": \"active\",\n",
    "  \"type\": {\n",
    "    \"coding\": [\n",
    "      {\n",
    "        \"code\": \"logic-library\"\n",
    "      }\n",
    "    ]\n",
    "  },\n",
    "  \"date\": \"2021-12-13\",\n",
    "  \"description\": \"Example 2 logic\",\n",
    "  \"content\": [\n",
    "    {\n",
    "      \"contentType\": \"text/cql\",\n",
    "      \"data\": \"ENCODED_CQL\"\n",
    "    }\n",
    "  ]\n",
    "}'''\n",
    "\n",
    "library_resource = library_resource.replace(\"ENCODED_CQL\", encoded_cql)"
   ]
  },
  {
   "cell_type": "code",
   "execution_count": null,
   "id": "82423e13",
   "metadata": {},
   "outputs": [],
   "source": [
    "library_resource"
   ]
  },
  {
   "cell_type": "code",
   "execution_count": null,
   "id": "868fdc5c",
   "metadata": {},
   "outputs": [],
   "source": [
    "#Post a library resource\n",
    "\n",
    "from os import listdir\n",
    "from os import path\n",
    "\n",
    "headers = {'Content-Type': 'application/json'}\n",
    "\n",
    "response = requests.post(fhir_server_url + \"/Library\", \n",
    "                                 auth=(username, password), \n",
    "                                 verify=False,\n",
    "                                 data=library_resource,\n",
    "                                 #data=file.read(), \n",
    "                                 headers=headers)\n",
    "\n",
    "library_id = response.headers[\"location\"].split(\"v4/\")[1].split(\"/_\")[0]\n",
    "print(library_id)"
   ]
  },
  {
   "cell_type": "code",
   "execution_count": null,
   "id": "7540605c",
   "metadata": {},
   "outputs": [],
   "source": [
    "# Get a list of ALL Libraries in fhir server\n",
    "\n",
    "#https://dlr-ext-fhir.wh-health-patterns.dev.watson-health.ibm.com/fhir/Library\n",
    "\n",
    "def get_library_list():\n",
    "    liblist = []\n",
    "    resp = requests.get(fhir_server_url + \"/Library\", auth=(username, password), verify=False)\n",
    "\n",
    "    print(\"Status code\", resp.status_code)\n",
    "\n",
    "    resp_json = resp.json()\n",
    "\n",
    "    print(\"Found\", resp_json[\"total\"], \"libraries\")\n",
    "    for e in resp_json[\"entry\"]:\n",
    "        libid = e[\"fullUrl\"].split(\"v4/\")[1]\n",
    "        #print(pid)\n",
    "        liblist.append(libid)\n",
    "    return liblist\n",
    "\n",
    "library_list = get_library_list()\n",
    "print(library_list)"
   ]
  },
  {
   "cell_type": "code",
   "execution_count": null,
   "id": "f0f9c834",
   "metadata": {},
   "outputs": [],
   "source": [
    "def run_library_evaluation(library_id, subject, results_table):\n",
    "    url = fhir_server_url + \"/\" + library_id + \"/$evaluate\"\n",
    "    #print(url)\n",
    "\n",
    "    query_params = {\n",
    "        \"subject\": subject\n",
    "    }\n",
    "    resp = requests.get(url, auth=(username, password), params=query_params, verify=False)\n",
    "    if resp.status_code == 200:\n",
    "        print(\"Evaluation successful\")\n",
    "\n",
    "        result_json = resp.json()\n",
    "        print(result_json.keys())\n",
    "        return_stuff = None\n",
    "        for p in result_json[\"parameter\"]:\n",
    "            if p[\"name\"] == \"return\":\n",
    "                return_stuff = p[\"part\"]\n",
    "                break\n",
    "\n",
    "        if return_stuff:\n",
    "            if results_table[\"headerrow\"] == None:\n",
    "                #create header row first by getting all parts in order\n",
    "                headerrow = []\n",
    "                for col in return_stuff:\n",
    "                    headerrow.append(col[\"name\"])\n",
    "                results_table[\"headerrow\"] = headerrow\n",
    "                \n",
    "            data_row = []\n",
    "            data_row.append(subject)\n",
    "            for apart in return_stuff:\n",
    "                keylist = apart.keys()\n",
    "                #print(keylist)\n",
    "                the_value = None\n",
    "                for k in keylist:\n",
    "                    if \"value\" in k:\n",
    "                        the_value = apart[k]\n",
    "                        print(apart[\"name\"], \"-->\", the_value)\n",
    "                        data_row.append(the_value)\n",
    "                        break\n",
    "                #print(apart[\"name\"], \"-->\", the_value)\n",
    "                #data_row.append(the_value)\n",
    "            results_table[\"datarows\"].append(data_row)\n",
    "\n",
    "    else:\n",
    "        print(\"Evaluation failure, return code -->\", resp.status_code)"
   ]
  },
  {
   "cell_type": "code",
   "execution_count": null,
   "id": "ac88751b",
   "metadata": {},
   "outputs": [],
   "source": [
    "results_table = {\n",
    "    \"headerrow\":None,\n",
    "    \"datarows\": []\n",
    "}\n",
    "subject = \"Patient/17dc3b9c5d0-e4448978-ee07-4a33-adee-98542009ec60\"\n",
    "library_id = \"Library/17dc3bc5e89-8fdb55be-078c-4a52-9a0d-3f425e6c242f\"\n",
    "run_library_evaluation(library_id, subject, results_table)"
   ]
  },
  {
   "cell_type": "code",
   "execution_count": null,
   "id": "79678e34",
   "metadata": {
    "scrolled": true
   },
   "outputs": [],
   "source": [
    "results_table = {\n",
    "    \"headerrow\":None,\n",
    "    \"datarows\": []\n",
    "}\n",
    "subject = \"Patient/17dc3b9caba-658e8e4c-8503-4a9f-ad12-754c9f2022f8\"\n",
    "run_library_evaluation(library_id, subject, results_table)"
   ]
  },
  {
   "cell_type": "code",
   "execution_count": null,
   "id": "acb3f38c",
   "metadata": {},
   "outputs": [],
   "source": [
    "def run_library_over_patientlist(library_id, patient_list, results_table):\n",
    "    for p in patient_list:\n",
    "        print(\"Running against\", p)\n",
    "        run_library_evaluation(library_id, p, results_table)"
   ]
  },
  {
   "cell_type": "code",
   "execution_count": null,
   "id": "cc810db7",
   "metadata": {},
   "outputs": [],
   "source": [
    "results_table = {\n",
    "    \"headerrow\":None,\n",
    "    \"datarows\": []\n",
    "}\n",
    "\n",
    "run_library_over_patientlist(library_id, patient_library[\"patientsOne\"] + patient_library[\"patientsTwo\"], results_table)\n"
   ]
  },
  {
   "cell_type": "code",
   "execution_count": null,
   "id": "d2c04e2c",
   "metadata": {},
   "outputs": [],
   "source": [
    "results_table.keys()"
   ]
  },
  {
   "cell_type": "code",
   "execution_count": null,
   "id": "8f459d55",
   "metadata": {},
   "outputs": [],
   "source": [
    "import csv\n",
    "def create_csv(data_table, filename):\n",
    "    with open(filename, 'w', newline='') as f:\n",
    "        writer = csv.writer(f)\n",
    "        writer.writerow(data_table[\"headerrow\"])\n",
    "        for arow in data_table[\"datarows\"]:\n",
    "            writer.writerow(arow)\n",
    "            \n",
    "    print(filename, \"created\")\n",
    "            \n",
    "create_csv(results_table, \"results.csv\")"
   ]
  },
  {
   "cell_type": "code",
   "execution_count": null,
   "id": "c7e1dd03",
   "metadata": {},
   "outputs": [],
   "source": [
    "#Use pandas dataframe to visualize the results\n",
    "\n",
    "import pandas as pd\n",
    "data = pd.read_csv(\"results.csv\")\n",
    "data.head(20)"
   ]
  },
  {
   "cell_type": "code",
   "execution_count": null,
   "id": "bc1d2cd2",
   "metadata": {},
   "outputs": [],
   "source": []
  },
  {
   "cell_type": "code",
   "execution_count": null,
   "id": "573a3664",
   "metadata": {},
   "outputs": [],
   "source": []
  },
  {
   "cell_type": "code",
   "execution_count": null,
   "id": "8ff8bb62",
   "metadata": {},
   "outputs": [],
   "source": []
  },
  {
   "cell_type": "code",
   "execution_count": null,
   "id": "d3951c3d",
   "metadata": {},
   "outputs": [],
   "source": []
  },
  {
   "cell_type": "code",
   "execution_count": null,
   "id": "018dfe9e",
   "metadata": {},
   "outputs": [],
   "source": []
  }
 ],
 "metadata": {
  "kernelspec": {
   "display_name": "Python 3 (ipykernel)",
   "language": "python",
   "name": "python3"
  },
  "language_info": {
   "codemirror_mode": {
    "name": "ipython",
    "version": 3
   },
   "file_extension": ".py",
   "mimetype": "text/x-python",
   "name": "python",
   "nbconvert_exporter": "python",
   "pygments_lexer": "ipython3",
   "version": "3.9.7"
  }
 },
 "nbformat": 4,
 "nbformat_minor": 5
}
